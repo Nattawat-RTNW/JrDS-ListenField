{
 "metadata": {
  "language_info": {
   "codemirror_mode": {
    "name": "ipython",
    "version": 3
   },
   "file_extension": ".py",
   "mimetype": "text/x-python",
   "name": "python",
   "nbconvert_exporter": "python",
   "pygments_lexer": "ipython3",
   "version": "3.8.3"
  },
  "orig_nbformat": 2,
  "kernelspec": {
   "name": "python383jvsc74a57bd0b765289b7fba84f629be8ba2a78befc7360e57b6d79f0eb9fb4b520737036874",
   "display_name": "Python 3.8.3 64-bit ('base': conda)"
  }
 },
 "nbformat": 4,
 "nbformat_minor": 2,
 "cells": [
  {
   "cell_type": "code",
   "execution_count": 27,
   "metadata": {},
   "outputs": [],
   "source": [
    "import ee\n",
    "import folium\n",
    "import numpy as np\n",
    "import pandas as pd\n",
    "import proplot as plot\n",
    "import matplotlib.pyplot as plt\n",
    "import datetime\n",
    "from pandas.plotting import register_matplotlib_converters\n",
    "\n",
    "service_account = 'nattawat@geeproject-313808.iam.gserviceaccount.com'\n",
    "credentials = ee.ServiceAccountCredentials(service_account, 'key.json')\n",
    "ee.Initialize(credentials)"
   ]
  },
  {
   "cell_type": "code",
   "execution_count": 28,
   "metadata": {},
   "outputs": [
    {
     "output_type": "stream",
     "name": "stdout",
     "text": [
      "Frist Date is : 2018-01-01 \n",
      "Last date is : 2018-01-13\n",
      "Polygon : 5\n",
      "Polygon GeoJSON:  {\"type\": \"Polygon\", \"coordinates\": [[[101.2142944, 15.0590284], [101.2407303, 15.0565419], [101.2422752, 15.0787537], [101.2151527, 15.0805769], [101.2142944, 15.0590284]]], \"evenOdd\": true}\n",
      "Geometry type:  Polygon\n"
     ]
    },
    {
     "output_type": "display_data",
     "data": {
      "text/plain": "'Coppy URL to download True : '"
     },
     "metadata": {}
    },
    {
     "output_type": "display_data",
     "data": {
      "text/plain": "'https://earthengine.googleapis.com/v1alpha/projects/earthengine-legacy/thumbnails/b75254a0c785c9e344bceef17c38e088-039cc15c0dcc8fa73562186544b12920:getPixels'"
     },
     "metadata": {}
    },
    {
     "output_type": "display_data",
     "data": {
      "text/plain": "'Coppy URL to download False : '"
     },
     "metadata": {}
    },
    {
     "output_type": "display_data",
     "data": {
      "text/plain": "'https://earthengine.googleapis.com/v1alpha/projects/earthengine-legacy/thumbnails/db536bc2c6861037dd54748f5b95789b-d504ecf9da6237685f457b3ac92e9e1a:getPixels'"
     },
     "metadata": {}
    },
    {
     "output_type": "execute_result",
     "data": {
      "text/plain": [
       "(None, None)"
      ]
     },
     "metadata": {},
     "execution_count": 28
    }
   ],
   "source": [
    "from geojson import Polygon\n",
    "\n",
    "\n",
    "coor  = [[101.2142944, 15.0590284],[101.2407303, 15.0565419],[101.2422752, 15.0787537],[101.2151527, 15.0805769],[101.2142944, 15.0590284]]\n",
    "polygon = ee.Geometry.Polygon(coor)\n",
    "\n",
    "mask = 0\n",
    "\n",
    "F_date = (input(\"Frist Date : \")) #2018-01-01\n",
    "L_date = (input(\"Last Date : \")) #2018-01-13 \n",
    "\n",
    "Poly = (input(\"Polygon : \"))\n",
    "print(f'Frist Date is : {F_date} \\nLast date is : {L_date}\\nPolygon : {Poly}')\n",
    "\n",
    "\n",
    "\n",
    "##############################################\n",
    "def Download_IMGAE(F_date,polygon):\n",
    "\n",
    "    def maskSen2_clouds(image):\n",
    "        qa = image.select('QA60')\n",
    "\n",
    "    # Bits 10 and 11 are clouds and cirrus, respectively.\n",
    "        cloudBitMask = 1 << 10\n",
    "        cirrusBitMask = 1 << 11\n",
    "\n",
    "    # Both flags should be set to zero, indicating clear conditions.\n",
    "        mask = qa.bitwiseAnd(cloudBitMask).eq(0)\n",
    "        mask = mask.bitwiseAnd(cirrusBitMask).eq(0)\n",
    "\n",
    "        return image.updateMask(mask).divide(10000)\n",
    "\n",
    "    ###################################\n",
    "    SATELLITE_ST = 'COPERNICUS/S2'\n",
    "    first_date = F_date\n",
    "    last_date = L_date\n",
    "\n",
    "    print('Polygon GeoJSON: ', polygon.toGeoJSONString()) # Print the geometry as a GeoJSON string.\n",
    "    print('Geometry type: ', polygon.type().getInfo()) # Print the GeoJSON 'type'\n",
    "\n",
    "    # Call collection of satellite images.\n",
    "    collection = (ee.ImageCollection(SATELLITE_ST)\n",
    "              # Select the Red, Green and Blue image bands, as well as the cloud masking layer.\n",
    "                 .select(['B8','B4', 'B3', 'B2','QA60'])\n",
    "              # Filter for images within a given date range.\n",
    "                 .filter(ee.Filter.date(first_date,last_date))\n",
    "              # Filter for images that overlap with the assigned geometry.\n",
    "                .filterBounds(polygon)\n",
    "              # Filter for images that have less then 20% cloud coverage.\n",
    "                .filter(ee.Filter.lt('CLOUDY_PIXEL_PERCENTAGE', 20)).map(maskSen2_clouds))\n",
    "              \n",
    "    image = collection.sort('system:index', opt_ascending=False).mosaic()\n",
    "    image_RGB = image.visualize( bands=['B4', 'B3', 'B2'],#True color\n",
    "                                 min=[0.0, 0.0, 0.0],\n",
    "                                 max=[0.3,0.3, 0.3] )\n",
    "\n",
    "    image_NRG = image.visualize( bands=['B8', 'B4', 'B3'], #False color\n",
    "                                 min=[0.0, 0.0, 0.0],\n",
    "                                 max=[0.3,0.3, 0.3] )        \n",
    "             \n",
    "    task_config = {\n",
    "        'fileFormat': 'GeoTIFF',\n",
    "        'region': polygon.coordinates().getInfo(),\n",
    "        'folder': 'Example_Folder_Name',\n",
    "        'scale': 10,\n",
    "        'crs': 'EPSG:4326',\n",
    "        'description': 'Example_File_Name'}\n",
    "\n",
    "    link_True = image_RGB.getDownloadUrl(task_config)\n",
    "    link_False = image_NRG.getDownloadUrl(task_config)\n",
    "\n",
    "    # display('Coppy URL to download True : ', link_True)\n",
    "    # display('Coppy URL to download False : ', link_False)\n",
    "\n",
    "    return display('Coppy URL to download True : ', link_True),display('Coppy URL to download False : ', link_False)\n",
    "\n",
    "Download_IMGAE(F_date,polygon)"
   ]
  },
  {
   "cell_type": "code",
   "execution_count": null,
   "metadata": {},
   "outputs": [],
   "source": []
  }
 ]
}